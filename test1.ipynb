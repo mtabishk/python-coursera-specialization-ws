{
 "cells": [
  {
   "cell_type": "code",
   "execution_count": null,
   "metadata": {},
   "outputs": [],
   "source": [
    "h=float(input('enter hrs'))\n",
    "rate=10.50\n",
    "if h<=40:\n",
    "    pay=h*rate\n",
    "elif h>40:\n",
    "    pay=40*rate + (h-40)*1.5*rate\n",
    "else:\n",
    "    print(\"invalid hrs\")\n",
    "print(pay)"
   ]
  },
  {
   "cell_type": "code",
   "execution_count": null,
   "metadata": {},
   "outputs": [],
   "source": []
  }
 ],
 "metadata": {
  "kernelspec": {
   "display_name": "Python 3",
   "language": "python",
   "name": "python3"
  }
 },
 "nbformat": 4,
 "nbformat_minor": 4
}
