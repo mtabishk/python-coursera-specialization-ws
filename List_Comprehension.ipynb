{
 "cells": [
  {
   "cell_type": "code",
   "execution_count": 43,
   "metadata": {},
   "outputs": [
    {
     "name": "stdout",
     "output_type": "stream",
     "text": [
      "04 3\n",
      "06 1\n",
      "07 1\n",
      "09 2\n",
      "10 3\n",
      "11 6\n",
      "14 1\n",
      "15 2\n",
      "16 4\n",
      "17 2\n",
      "18 1\n",
      "19 1\n"
     ]
    }
   ],
   "source": [
    "name = \"mbox-short.txt\"\n",
    "text = open(name)\n",
    "hours = dict()\n",
    "\n",
    "for line in text:\n",
    "    line.rstrip()\n",
    "    if not line.startswith(\"From \"): continue\n",
    "    words = line.split()\n",
    "    hour = words[5].split(\":\")\n",
    "    hours[hour[0]] = hours.get(hour[0],0) + 1\n",
    "\n",
    "list = sorted([(k,v) for k,v in hours.items()])\n",
    "for v, k in list:\n",
    "    print(v,k)"
   ]
  },
  {
   "cell_type": "code",
   "execution_count": 35,
   "metadata": {},
   "outputs": [
    {
     "name": "stdout",
     "output_type": "stream",
     "text": [
      "['16', '23', '48']\n"
     ]
    }
   ],
   "source": []
  },
  {
   "cell_type": "code",
   "execution_count": 32,
   "metadata": {},
   "outputs": [
    {
     "name": "stdout",
     "output_type": "stream",
     "text": [
      "1 06\n",
      "1 07\n",
      "1 14\n",
      "1 18\n",
      "1 19\n",
      "2 09\n",
      "2 15\n",
      "2 17\n",
      "3 04\n",
      "3 10\n",
      "4 16\n",
      "6 11\n"
     ]
    }
   ],
   "source": []
  },
  {
   "cell_type": "code",
   "execution_count": null,
   "metadata": {},
   "outputs": [],
   "source": []
  }
 ],
 "metadata": {
  "kernelspec": {
   "display_name": "Python 3",
   "language": "python",
   "name": "python3"
  },
  "language_info": {
   "codemirror_mode": {
    "name": "ipython",
    "version": 3
   },
   "file_extension": ".py",
   "mimetype": "text/x-python",
   "name": "python",
   "nbconvert_exporter": "python",
   "pygments_lexer": "ipython3",
   "version": "3.7.7"
  }
 },
 "nbformat": 4,
 "nbformat_minor": 4
}
